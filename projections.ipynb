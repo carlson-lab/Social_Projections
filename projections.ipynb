{
 "cells": [
  {
   "cell_type": "code",
   "execution_count": 1,
   "id": "3aa2d6e9-7813-4163-a3a0-45dd9bbb3e5c",
   "metadata": {},
   "outputs": [
    {
     "name": "stdout",
     "output_type": "stream",
     "text": [
      "WARNING:tensorflow:From /hpc/home/mk423/Social_Network_Projections/norm_base.py:40: The name tf.ConfigProto is deprecated. Please use tf.compat.v1.ConfigProto instead.\n",
      "\n"
     ]
    }
   ],
   "source": [
    "import numpy as np\n",
    "import sklearn.decomposition as dp\n",
    "import pickle\n",
    "import sys,os\n",
    "import numpy.random as rand\n",
    "from norm_encoded import NMF \n",
    "from norm_supervised import sNMF\n",
    "from sklearn.linear_model import LogisticRegression as LR\n",
    "from sklearn.metrics import auc,roc_curve\n",
    "from sklearn.utils.random import sample_without_replacement\n",
    "import scipy.io\n",
    "from data_tools import load_data"
   ]
  },
  {
   "cell_type": "markdown",
   "id": "7f41356c-9d4b-45c8-bf8d-c072ab300374",
   "metadata": {},
   "source": [
    "### Make Sure for your data that the brain regions match this naming scheme:\n",
    "\n",
    "['Amy', 'Cg Cx', 'Hipp', 'IL Cx', 'Nac', 'PrL Cx', 'Thal', 'VTA']\n",
    "\n",
    "### saveFeatures version must be 1.1"
   ]
  },
  {
   "cell_type": "code",
   "execution_count": 2,
   "id": "ed2effd6-b96b-4f64-bf22-91a480e1d9e3",
   "metadata": {},
   "outputs": [
    {
     "name": "stdout",
     "output_type": "stream",
     "text": [
      "/work/mk423/Social_v_1_2/Social_Chunk_1_v_1_1.mat\n"
     ]
    }
   ],
   "source": [
    "fileName = \"/work/mk423/Social_v_1_2/Social_Chunk_1_v_1_1.mat\"\n",
    "\n",
    "#Actually load in the data using the correct contemporary loader\n",
    "myList = load_data(fileName,fBounds=(1,56),\n",
    "\t\t\t\t\t\tfeature_list=['power','coherence','granger'])\n",
    "\n",
    "#Gets the power, coherence and exp(granger) features along with truncation\n",
    "power = myList[0]\n",
    "coherence = myList[1]\n",
    "granger = myList[2]\n",
    "granger = np.exp(granger)\n",
    "granger[granger>10] = 10"
   ]
  },
  {
   "cell_type": "code",
   "execution_count": 4,
   "id": "7975c16a-9a02-44ed-b22b-c282d1dba2a9",
   "metadata": {},
   "outputs": [],
   "source": [
    "labels = myList[3]\n",
    "windows = labels['windows']\n",
    "mouse = windows['mouse']\n",
    "time = windows['time']\n",
    "expDate = windows['expDate']"
   ]
  },
  {
   "cell_type": "code",
   "execution_count": 5,
   "id": "11784462-3802-4ad3-94f4-d51e0ba884a2",
   "metadata": {},
   "outputs": [],
   "source": [
    "X = np.hstack([10*power,coherence,granger])"
   ]
  },
  {
   "cell_type": "code",
   "execution_count": 6,
   "id": "a1a09f53-9bab-46be-8bcb-5a634d0a0ca4",
   "metadata": {},
   "outputs": [
    {
     "name": "stdout",
     "output_type": "stream",
     "text": [
      "WARNING:tensorflow:From /hpc/home/mk423/Social_Network_Projections/norm_base.py:141: The name tf.GPUOptions is deprecated. Please use tf.compat.v1.GPUOptions instead.\n",
      "\n"
     ]
    }
   ],
   "source": [
    "nIter=5\n",
    "dev=3\n",
    "number_test = str(3906)\n",
    "number_components = str(9)\n",
    "trial = str(6)\n",
    "dirName = './supervised_rep_' + number_test+'_'+number_components+'_'+trial\n",
    "supStr=3.0\n",
    "model = sNMF(5,outerIter=nIter,device=dev,dirName=dirName,LR=1e-5,\n",
    "                percGPU=.35,\n",
    "                n_blessed=1,mu=supStr)"
   ]
  },
  {
   "cell_type": "code",
   "execution_count": 7,
   "id": "f12e9b9e-ef6e-4ec5-afc8-d5b981394c01",
   "metadata": {},
   "outputs": [
    {
     "name": "stdout",
     "output_type": "stream",
     "text": [
      "WARNING:tensorflow:From /hpc/home/mk423/Social_Network_Projections/norm_base.py:460: The name tf.Session is deprecated. Please use tf.compat.v1.Session instead.\n",
      "\n",
      "WARNING:tensorflow:From /hpc/home/mk423/Social_Network_Projections/norm_base.py:461: The name tf.train.import_meta_graph is deprecated. Please use tf.compat.v1.train.import_meta_graph instead.\n",
      "\n",
      "WARNING:tensorflow:From /hpc/home/mk423/Social_Network_Projections/norm_base.py:463: The name tf.get_default_graph is deprecated. Please use tf.compat.v1.get_default_graph instead.\n",
      "\n",
      "INFO:tensorflow:Restoring parameters from ./supervised_rep_3906_9_6/Default_sNMF.ckpt\n",
      "WARNING:tensorflow:From /hpc/home/mk423/Social_Network_Projections/norm_base.py:468: The name tf.RunOptions is deprecated. Please use tf.compat.v1.RunOptions instead.\n",
      "\n"
     ]
    }
   ],
   "source": [
    "#Actually load mapping from subdirectory\n",
    "model.meta = model.dirName + '/' + model.name + '.ckpt.meta'\n",
    "\n",
    "#Transform coordinates\n",
    "S_DEP = model.transform(X)"
   ]
  },
  {
   "cell_type": "code",
   "execution_count": 9,
   "id": "1b8122a1-9f2b-418b-83c9-085609a9d7e9",
   "metadata": {},
   "outputs": [
    {
     "data": {
      "text/plain": [
       "(82925, 6)"
      ]
     },
     "execution_count": 9,
     "metadata": {},
     "output_type": "execute_result"
    }
   ],
   "source": [
    "S_DEP.shape"
   ]
  },
  {
   "cell_type": "code",
   "execution_count": null,
   "id": "9be36cf6-2bad-48e1-938c-35cda8d610fe",
   "metadata": {},
   "outputs": [],
   "source": []
  }
 ],
 "metadata": {
  "kernelspec": {
   "display_name": "Python 3",
   "language": "python",
   "name": "python3"
  },
  "language_info": {
   "codemirror_mode": {
    "name": "ipython",
    "version": 3
   },
   "file_extension": ".py",
   "mimetype": "text/x-python",
   "name": "python",
   "nbconvert_exporter": "python",
   "pygments_lexer": "ipython3",
   "version": "3.6.8"
  }
 },
 "nbformat": 4,
 "nbformat_minor": 5
}
